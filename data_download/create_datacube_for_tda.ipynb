{
 "cells": [
  {
   "cell_type": "markdown",
   "id": "e684a678-c3b4-48e3-960e-8c524816cf87",
   "metadata": {},
   "source": [
    "# Import statements"
   ]
  },
  {
   "cell_type": "code",
   "execution_count": 1,
   "id": "c99b4195-1fe4-4a00-aaff-d90e70dbd6a2",
   "metadata": {},
   "outputs": [],
   "source": [
    "import os\n",
    "import csv\n",
    "import shutil\n",
    "import numpy as np\n",
    "from tqdm import tqdm\n",
    "from datetime import datetime, timedelta\n",
    "import drms\n",
    "import time\n",
    "import glob\n",
    "from sunpy.map import Map\n",
    "import astropy"
   ]
  },
  {
   "cell_type": "markdown",
   "id": "563f72f3-8e9e-41a5-a8b2-05d86f86f4e6",
   "metadata": {},
   "source": [
    "# Function for requesting a downloading data"
   ]
  },
  {
   "cell_type": "code",
   "execution_count": 2,
   "id": "ae9df716-a6b6-4e2d-9b1d-ee872c7c68d3",
   "metadata": {},
   "outputs": [],
   "source": [
    "# download aia images through drms\n",
    "def download_aia_images(tref, delta_t, x_hpc, y_hpc, n_pixel,\n",
    "                        path_dir='./', notify='john_doe@something.com'):\n",
    "    \n",
    "    client = drms.Client(verbose=False)\n",
    "    \n",
    "    qstr = \"aia.lev1_euv_12s[\"+ tref +\"/\" + str(delta_t) + \"m]\"\n",
    "    print(f\"Data export query:\\n  {qstr}\\n\")\n",
    "\n",
    "    ###############################################################################\n",
    "    # Construct the dictionary specifying that we want to request a cutout.\n",
    "    # This is done via the ``im_patch`` command.\n",
    "    \n",
    "    # The ``t`` controls whether tracking is disabled (``1``) or enabled (``0``).\n",
    "    # ``r`` controls the use of sub-pixel registration.\n",
    "    # ``c`` controls whether off-limb pixels are filled with NaNs.\n",
    "    # For additional details about ``im_patch``, \n",
    "    # see the `documentation <http://jsoc.stanford.edu/doxygen_html/group__im__patch.html>`_.\n",
    "    process = {\n",
    "        \"aia_scale_aialev1\":{           # Scale for transforming data as level 1p5\n",
    "        \"mpt\": \"aia.master_pointing3h\",\n",
    "        },\n",
    "        \"im_patch\": {\n",
    "            \"t_ref\": tref,\n",
    "            \"t\": 1,\n",
    "            \"r\": 0,\n",
    "            \"c\": 0,\n",
    "            \"locunits\": \"arcsec\",\n",
    "            \"boxunits\": \"pixels\",\n",
    "            \"x\": x_hpc,\n",
    "            \"y\": y_hpc,\n",
    "            \"width\": n_pixel,\n",
    "            \"height\": n_pixel,\n",
    "        }\n",
    "    }\n",
    "\n",
    "    \n",
    "    # Submit export request using the 'fits' protocol\n",
    "    print(\"Submitting export request...\")\n",
    "    result = client.export(\n",
    "        qstr,\n",
    "        method=\"url\",\n",
    "        protocol=\"fits\",\n",
    "        email=notify,\n",
    "        process=process,\n",
    "        filenamefmt=\"{seriesname}.{T_REC:A}.{WAVELNTH}.{segment}\",\n",
    "    )\n",
    "\n",
    "    # Print request URL.\n",
    "    print(f\"\\nRequest URL: {result.request_url}\")\n",
    "    print(f\"{int(len(result.urls))} file(s) available for download.\\n\")\n",
    "\n",
    "    # Download selected files.\n",
    "    result.wait()\n",
    "    result.download(path_dir)\n",
    "    print(\"Download finished.\")"
   ]
  },
  {
   "cell_type": "markdown",
   "id": "b0404c19-8ebe-4700-baa9-6a71cf17a5a4",
   "metadata": {},
   "source": [
    "# Functions for creating a saving a datacube"
   ]
  },
  {
   "cell_type": "code",
   "execution_count": 3,
   "id": "7164c5a3-213b-4692-81f9-0a3791593fe7",
   "metadata": {},
   "outputs": [],
   "source": [
    "# Given a filename in the standard format from JSOC download, find out what the wavelength is\n",
    "def WavelengthFromFilename(filename):\n",
    "    # Position of \".\" after wavelength\n",
    "    end = filename.find(\".image\")\n",
    "    if end < 0:\n",
    "        return -1\n",
    "    \n",
    "    start = end - 1\n",
    "    \n",
    "    while filename[start] != '.':\n",
    "        start = start - 1\n",
    "    \n",
    "    start = start + 1\n",
    "    \n",
    "    return int(filename[start:end])\n",
    "\n",
    "# Order of wavelengths from low to high temperature\n",
    "wavelengthIndexDict = {304:0, 131:1, 171:2, 193:3, 211:4, 335:5, 94:6}\n",
    "\n",
    "# And the inverse\n",
    "wavelengthInvIndexDict = {v: k for k, v in wavelengthIndexDict.items()}\n",
    "\n",
    "\n",
    "def save_fits_datacube(filename, aia_data_folder,array_tuple):\n",
    "    \n",
    "    downloaded_files = glob.glob(os.path.join(aia_data_folder, \"aia*\"))\n",
    "    \n",
    "    binnedFiles = [[], [], [], [], [], [], []]\n",
    "\n",
    "    for file in downloaded_files:\n",
    "        wav = WavelengthFromFilename(file)\n",
    "\n",
    "        # skip if it is a spike file\n",
    "        if wav == -1:\n",
    "            continue\n",
    "\n",
    "        # otherwise bin it\n",
    "        binnedFiles[wavelengthIndexDict[wav]].append(file)\n",
    "\n",
    "    # Now also sort each bin by time\n",
    "\n",
    "    for wav_bin in binnedFiles:\n",
    "        wav_bin.sort()\n",
    "\n",
    "    out_arr = np.zeros(array_tuple, dtype=np.int16)\n",
    "\n",
    "    for t_ind in range(array_tuple[3]):\n",
    "        for e_ind in range(array_tuple[2]):\n",
    "            aux = Map(binnedFiles[e_ind][t_ind]).data.T\n",
    "            out_arr[:, :, e_ind, t_ind] = aux\n",
    "\n",
    "    astropy.io.fits.writeto(filename, out_arr, overwrite=True)"
   ]
  },
  {
   "cell_type": "markdown",
   "id": "99cdb8a5-f2f4-4b9e-860d-95c6a91dccaf",
   "metadata": {},
   "source": [
    "# Main"
   ]
  },
  {
   "cell_type": "code",
   "execution_count": 4,
   "id": "8ed23eb0-793c-4cef-ac09-3295f0fc9828",
   "metadata": {},
   "outputs": [
    {
     "name": "stdout",
     "output_type": "stream",
     "text": [
      "Data export query:\n",
      "  aia.lev1_euv_12s[2010-05-22T21:39:00/1m]\n",
      "\n",
      "Submitting export request...\n",
      "\n",
      "Request URL: http://jsoc.stanford.edu/SUM39/D1556797993/S00000\n",
      "35 file(s) available for download.\n",
      "\n",
      "Download finished.\n"
     ]
    }
   ],
   "source": [
    "notify = \"massa.p@dima.unige.it\" # change this!\n",
    "\n",
    "# Path of the folder where to store the AIA maps and the datacube fits file\n",
    "path_dir = os.path.join(\".\", \"example\") \n",
    "if not os.path.exists(path_dir):\n",
    "    os.mkdir(path_dir)\n",
    "\n",
    "# Example: flare 52, flare list 1\n",
    "tref    = \"2010-05-22T21:39:00\" # start time of the flare\n",
    "delta_t = 1    # time interval to download (starting from tref) in minutes\n",
    "x_hpc   = -147 # X coordinate of the center of the cutout (in arcsec)\n",
    "y_hpc   = -234 # Y coordinate of the center of the cutout (in arcsec)\n",
    "n_pixel = 200  # number of pixels of the cutout (both on the x and y axis)\n",
    "\n",
    "# Retrieve and download AIA data\n",
    "download_aia_images(tref, delta_t, x_hpc, y_hpc, n_pixel, path_dir=path_dir, notify=notify)\n",
    "\n",
    "# Save fits file of the datacube\n",
    "filename = os.path.join(path_dir, \"datacube.fits\")\n",
    "# Tuple with the shape of the datacube to save\n",
    "array_tuple = [200,200,7,5]\n",
    "save_fits_datacube(filename, path_dir,array_tuple)"
   ]
  }
 ],
 "metadata": {
  "kernelspec": {
   "display_name": "aia_env",
   "language": "python",
   "name": "aia_env"
  },
  "language_info": {
   "codemirror_mode": {
    "name": "ipython",
    "version": 3
   },
   "file_extension": ".py",
   "mimetype": "text/x-python",
   "name": "python",
   "nbconvert_exporter": "python",
   "pygments_lexer": "ipython3",
   "version": "3.7.11"
  }
 },
 "nbformat": 4,
 "nbformat_minor": 5
}
