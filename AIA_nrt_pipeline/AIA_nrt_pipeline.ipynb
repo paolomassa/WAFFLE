{
 "cells": [
  {
   "cell_type": "code",
   "execution_count": 1,
   "id": "d00cd6e9-687b-417e-aae6-465b2501ef69",
   "metadata": {},
   "outputs": [],
   "source": [
    "import warnings\n",
    "warnings.filterwarnings(\"ignore\")\n",
    "\n",
    "from scipy.io.idl import readsav\n",
    "import os\n",
    "\n",
    "import dem_rml\n",
    "import aux_functions"
   ]
  },
  {
   "cell_type": "markdown",
   "id": "5222d9a7-f96c-429f-813a-ccf75ddac5a5",
   "metadata": {},
   "source": [
    "# Read temperature response matrix"
   ]
  },
  {
   "cell_type": "code",
   "execution_count": 2,
   "id": "d4626d32-8ad3-4c67-83e1-5f8665d0314a",
   "metadata": {},
   "outputs": [],
   "source": [
    "data  = readsav(os.path.join('.','data','tr_matrix_data.sav'))\n",
    "# AIA temperature response function\n",
    "tresp = data['TR']\n",
    "# array containing the value of the base 10 logarithm of the center of each temparture bin\n",
    "logT  = data['logT']\n",
    "# array containing the value of the width of the base 10 logarithm of the temperature bins\n",
    "dlogT = data['dlogT']\n",
    "# array containing the value of the width of the temperature bins\n",
    "dT    = data['dT']"
   ]
  },
  {
   "cell_type": "markdown",
   "id": "fa13df46-89b8-4149-adb2-adf2ad2ed8ed",
   "metadata": {},
   "source": [
    "# Define parameters test"
   ]
  },
  {
   "cell_type": "code",
   "execution_count": 3,
   "id": "eeb10f39-3652-422f-9fdc-055e3147aa6d",
   "metadata": {},
   "outputs": [],
   "source": [
    "# Duration of the data streal (in minutes)\n",
    "duration_stream = 420 \n",
    "\n",
    "# Define folder where to save the data\n",
    "data_folder = os.path.join('.','2023Jul14')\n",
    "aux_functions.mkdir(data_folder)\n",
    "\n",
    "# AR parameters\n",
    "n_ar   = 3\n",
    "arnum  = [13372,13361,13363]\n",
    "ar_lon = [-58,70,30]\n",
    "ar_lat = [20,20,-23]\n",
    "\n",
    "# Timezone with respect to which the times are expressed in the plots\n",
    "timezone='US/Central'"
   ]
  },
  {
   "cell_type": "markdown",
   "id": "bddb7752-044f-4165-b0f6-7f333ec34617",
   "metadata": {},
   "source": [
    "# Start AIA data stream"
   ]
  },
  {
   "cell_type": "code",
   "execution_count": null,
   "id": "2a3a608c-dbff-4508-babe-90abcae1f68f",
   "metadata": {},
   "outputs": [
    {
     "name": "stdout",
     "output_type": "stream",
     "text": [
      "No latest data series. Wait 15 s.\n",
      "No latest data series. Wait 15 s.\n",
      "Start download AIA data recorded at 14-07-2023T18:05:01 US/Central\n",
      "Download completed!\n",
      "    Compute EM - AR: 13372\n",
      "    Compute EM - AR: 13361\n",
      "    Compute EM - AR: 13363\n",
      "Elapsed time: 88 s\n",
      "Start download AIA data recorded at 14-07-2023T18:05:13 US/Central\n",
      "Download completed!\n",
      "    Compute EM - AR: 13372\n",
      "    Compute EM - AR: 13361\n",
      "    Compute EM - AR: 13363\n",
      "Elapsed time: 81 s\n",
      "Start download AIA data recorded at 14-07-2023T18:07:25 US/Central\n",
      "Download completed!\n"
     ]
    }
   ],
   "source": [
    "aux_functions.stream_aia_data(duration_stream, tresp, logT, dlogT, dT, data_folder, \n",
    "                              n_ar, ar_lon, ar_lat, arnum)"
   ]
  }
 ],
 "metadata": {
  "kernelspec": {
   "display_name": "aia_env",
   "language": "python",
   "name": "aia_env"
  },
  "language_info": {
   "codemirror_mode": {
    "name": "ipython",
    "version": 3
   },
   "file_extension": ".py",
   "mimetype": "text/x-python",
   "name": "python",
   "nbconvert_exporter": "python",
   "pygments_lexer": "ipython3",
   "version": "3.7.13"
  }
 },
 "nbformat": 4,
 "nbformat_minor": 5
}
